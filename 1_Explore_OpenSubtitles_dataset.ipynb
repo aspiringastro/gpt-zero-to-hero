{
 "cells": [
  {
   "cell_type": "code",
   "execution_count": 9,
   "id": "280976db-27e8-4846-b98a-905645599ba0",
   "metadata": {},
   "outputs": [],
   "source": [
    "import pandas as pd"
   ]
  },
  {
   "cell_type": "code",
   "execution_count": 10,
   "id": "d3a66ec1-b7b5-481a-98ec-671d60fc1b37",
   "metadata": {},
   "outputs": [],
   "source": [
    "\n",
    "# Load the first million lines of the opensubtitles 2018 dataset\n",
    "# Reference: Citation J. Tiedemann, 2012, Parallel Data, Tools and Interfaces in OPUS. In Proceedings of the 8th International Conference on Language Resources and Evaluation (LREC 2012)\n",
    "\n",
    "with open('data/tiny_opensubtitles.txt', 'r', encoding='utf-8') as f:\n",
    "    text = f.read()\n"
   ]
  },
  {
   "cell_type": "code",
   "execution_count": 11,
   "id": "05c7daea",
   "metadata": {},
   "outputs": [
    {
     "name": "stdout",
     "output_type": "stream",
     "text": [
      "Dataset length: 1048194\n"
     ]
    }
   ],
   "source": [
    "print(f'Dataset length: {len(text)}')"
   ]
  },
  {
   "cell_type": "code",
   "execution_count": 12,
   "id": "823d2eff",
   "metadata": {},
   "outputs": [
    {
     "name": "stdout",
     "output_type": "stream",
     "text": [
      "\n",
      " !\"#$%'()*,-./0123456789:;?@ABCDEFGHIJKLMNOPQRSTUVWXYZ[]^_abcdefghijklmnopqrstuvwxyz~¦¬Îáâçèéíó♪置群\n",
      "Length of vocab: 99\n"
     ]
    }
   ],
   "source": [
    "# all unique characters in the dataset\n",
    "chars = sorted(list(set(text)))\n",
    "vocab_size = len(chars)\n",
    "print(''.join(chars))\n",
    "print(f'Length of vocab: {vocab_size}')"
   ]
  },
  {
   "cell_type": "code",
   "execution_count": 13,
   "id": "f6a99a5c",
   "metadata": {},
   "outputs": [
    {
     "name": "stdout",
     "output_type": "stream",
     "text": [
      "[36, 63, 70, 70, 73, 1, 48, 76, 59, 72, 77, 64, 73, 76, 71, 63, 76, 2]\n",
      "Hello Transformer!\n"
     ]
    }
   ],
   "source": [
    "# create a mapping of characters to integers\n",
    "stoi = {ch:i for i,ch in enumerate(chars)}\n",
    "itos = {i:ch for i,ch in enumerate(chars)}\n",
    "\n",
    "#encoder: take a string and return a list of integers mapped to that string\n",
    "encode = lambda s: [stoi[ch] for ch in s] \n",
    "\n",
    "#decoder: take a list of integers and return a string\n",
    "decode = lambda l: ''.join([itos[i] for i in l])\n",
    "\n",
    "str = \"Hello Transformer!\"\n",
    "print(encode(str))\n",
    "print(decode(encode(str)))"
   ]
  },
  {
   "cell_type": "code",
   "execution_count": 17,
   "id": "32b04892",
   "metadata": {},
   "outputs": [
    {
     "name": "stdout",
     "output_type": "stream",
     "text": [
      "torch.Size([1048194]) torch.int64\n"
     ]
    }
   ],
   "source": [
    "# Encode the entire dataset and store it as a tensor in Torch\n",
    "import torch\n",
    "data = torch.tensor(encode(text), dtype=torch.long)\n",
    "print(data.shape, data.dtype)"
   ]
  },
  {
   "cell_type": "code",
   "execution_count": 19,
   "id": "f461f9e6",
   "metadata": {},
   "outputs": [
    {
     "name": "stdout",
     "output_type": "stream",
     "text": [
      "Train data length: 943374, Valid data length: 104820\n"
     ]
    }
   ],
   "source": [
    "# Train and Validation data sets\n",
    "n = int(0.9 * len(data))\n",
    "train_data = data[:n]\n",
    "val_data = data[n:]\n",
    "\n",
    "print(f'Train data length: {len(train_data)}, Valid data length: {len(val_data)}')"
   ]
  },
  {
   "cell_type": "code",
   "execution_count": 20,
   "id": "7f8e0913-ccbc-4352-82ed-8dc0acf24275",
   "metadata": {},
   "outputs": [
    {
     "data": {
      "text/plain": [
       "tensor([44, 76, 63, 77, 63, 72, 78, 63, 62])"
      ]
     },
     "execution_count": 20,
     "metadata": {},
     "output_type": "execute_result"
    }
   ],
   "source": [
    "block_size = 8\n",
    "train_data[:block_size + 1]"
   ]
  },
  {
   "cell_type": "code",
   "execution_count": 26,
   "id": "ac23b74f-8ac7-4dab-861e-1b88cd1ff31c",
   "metadata": {},
   "outputs": [
    {
     "name": "stdout",
     "output_type": "stream",
     "text": [
      "when input in tensor([44]) (P), target is 76 (r)\n",
      "when input in tensor([44, 76]) (Pr), target is 63 (e)\n",
      "when input in tensor([44, 76, 63]) (Pre), target is 77 (s)\n",
      "when input in tensor([44, 76, 63, 77]) (Pres), target is 63 (e)\n",
      "when input in tensor([44, 76, 63, 77, 63]) (Prese), target is 72 (n)\n",
      "when input in tensor([44, 76, 63, 77, 63, 72]) (Presen), target is 78 (t)\n",
      "when input in tensor([44, 76, 63, 77, 63, 72, 78]) (Present), target is 63 (e)\n",
      "when input in tensor([44, 76, 63, 77, 63, 72, 78, 63]) (Presente), target is 62 (d)\n"
     ]
    }
   ],
   "source": [
    "x = train_data[:block_size]\n",
    "y = train_data[1:block_size+1]\n",
    "for t in range(block_size):\n",
    "    context = x[:t+1]\n",
    "    target = y[t]\n",
    "    print(f'when input in {context} ({decode(context.tolist())}), target is {target} ({decode([target.tolist()])})')"
   ]
  },
  {
   "cell_type": "code",
   "execution_count": 38,
   "id": "489c4670-ce3e-4830-905b-d4e47ce8f782",
   "metadata": {},
   "outputs": [
    {
     "name": "stdout",
     "output_type": "stream",
     "text": [
      "inputs: torch.Size([8, 8]), targets: torch.Size([8, 8])\n",
      "xb =  tensor([[66, 59, 78, 78, 63, 76,  2,  0],\n",
      "        [71, 60, 63, 76,  1, 83, 73, 79],\n",
      "        [74, 27,  0, 51, 63,  1, 71, 79],\n",
      "        [48, 59, 69, 63,  1, 73, 64, 64],\n",
      "        [64, 64, 63, 61, 78,  0, 78, 66],\n",
      "        [ 1, 70, 67, 69, 63,  1, 78, 73],\n",
      "        [12, 37, 67, 64, 63,  1, 78, 66],\n",
      "        [78, 66,  1, 78, 66, 63, 71,  1]])\n",
      "yb =  tensor([[59, 78, 78, 63, 76,  2,  0, 36],\n",
      "        [60, 63, 76,  1, 83, 73, 79,  1],\n",
      "        [27,  0, 51, 63,  1, 71, 79, 77],\n",
      "        [59, 69, 63,  1, 73, 64, 64,  1],\n",
      "        [64, 63, 61, 78,  0, 78, 66, 59],\n",
      "        [70, 67, 69, 63,  1, 78, 73,  1],\n",
      "        [37, 67, 64, 63,  1, 78, 66, 67],\n",
      "        [66,  1, 78, 66, 63, 71,  1, 74]])\n",
      "------\n",
      "when input in tensor([66]) (h), target is 59 (a)\n",
      "when input in tensor([66, 59]) (ha), target is 78 (t)\n",
      "when input in tensor([66, 59, 78]) (hat), target is 78 (t)\n",
      "when input in tensor([66, 59, 78, 78]) (hatt), target is 63 (e)\n",
      "when input in tensor([66, 59, 78, 78, 63]) (hatte), target is 76 (r)\n",
      "when input in tensor([66, 59, 78, 78, 63, 76]) (hatter), target is 2 (!)\n",
      "when input in tensor([66, 59, 78, 78, 63, 76,  2]) (hatter!), target is 0 (\n",
      ")\n",
      "when input in tensor([66, 59, 78, 78, 63, 76,  2,  0]) (hatter!\n",
      "), target is 36 (H)\n",
      "when input in tensor([71]) (m), target is 60 (b)\n",
      "when input in tensor([71, 60]) (mb), target is 63 (e)\n",
      "when input in tensor([71, 60, 63]) (mbe), target is 76 (r)\n",
      "when input in tensor([71, 60, 63, 76]) (mber), target is 1 ( )\n",
      "when input in tensor([71, 60, 63, 76,  1]) (mber ), target is 83 (y)\n",
      "when input in tensor([71, 60, 63, 76,  1, 83]) (mber y), target is 73 (o)\n",
      "when input in tensor([71, 60, 63, 76,  1, 83, 73]) (mber yo), target is 79 (u)\n",
      "when input in tensor([71, 60, 63, 76,  1, 83, 73, 79]) (mber you), target is 1 ( )\n",
      "when input in tensor([74]) (p), target is 27 (?)\n",
      "when input in tensor([74, 27]) (p?), target is 0 (\n",
      ")\n",
      "when input in tensor([74, 27,  0]) (p?\n",
      "), target is 51 (W)\n",
      "when input in tensor([74, 27,  0, 51]) (p?\n",
      "W), target is 63 (e)\n",
      "when input in tensor([74, 27,  0, 51, 63]) (p?\n",
      "We), target is 1 ( )\n",
      "when input in tensor([74, 27,  0, 51, 63,  1]) (p?\n",
      "We ), target is 71 (m)\n",
      "when input in tensor([74, 27,  0, 51, 63,  1, 71]) (p?\n",
      "We m), target is 79 (u)\n",
      "when input in tensor([74, 27,  0, 51, 63,  1, 71, 79]) (p?\n",
      "We mu), target is 77 (s)\n",
      "when input in tensor([48]) (T), target is 59 (a)\n",
      "when input in tensor([48, 59]) (Ta), target is 69 (k)\n",
      "when input in tensor([48, 59, 69]) (Tak), target is 63 (e)\n",
      "when input in tensor([48, 59, 69, 63]) (Take), target is 1 ( )\n",
      "when input in tensor([48, 59, 69, 63,  1]) (Take ), target is 73 (o)\n",
      "when input in tensor([48, 59, 69, 63,  1, 73]) (Take o), target is 64 (f)\n",
      "when input in tensor([48, 59, 69, 63,  1, 73, 64]) (Take of), target is 64 (f)\n",
      "when input in tensor([48, 59, 69, 63,  1, 73, 64, 64]) (Take off), target is 1 ( )\n"
     ]
    }
   ],
   "source": [
    "torch.manual_seed(1337)\n",
    "\n",
    "batch_size = 4 # how many independent sequences will we process in parallel?\n",
    "block_size = 8 # whhat is the maximum content length for prediction?\n",
    "\n",
    "def get_batch(split):\n",
    "    #generate a random batch of data of inputs x and targets y\n",
    "    data = train_data if split == 'train' else val_data\n",
    "    # create a block_size worth of random indexes within the data - blocksize length\n",
    "    ix = torch.randint(len(data) - block_size - 1, (block_size,))\n",
    "    xb = torch.stack([data[i:i+block_size] for i in ix])\n",
    "    yb = torch.stack([data[i+1:i+block_size+1] for i in ix])\n",
    "    return xb,yb\n",
    "\n",
    "xb, yb = get_batch('train')\n",
    "print(f'inputs: {xb.shape}, targets: {yb.shape}')\n",
    "print('xb = ', xb)\n",
    "print('yb = ', yb)\n",
    "print('------')\n",
    "for b in range(batch_size): # batch dimension\n",
    "    for t in range(block_size): # time dimension\n",
    "        context = xb[b, :t+1]\n",
    "        target = yb[b, t]\n",
    "        print(f'when input in {context} ({decode(context.tolist())}), target is {target} ({decode([target.tolist()])})')"
   ]
  },
  {
   "cell_type": "code",
   "execution_count": 39,
   "id": "21660659-8c51-4eb3-bba5-e98c27305aec",
   "metadata": {},
   "outputs": [
    {
     "name": "stdout",
     "output_type": "stream",
     "text": [
      "tensor([[66, 59, 78, 78, 63, 76,  2,  0],\n",
      "        [71, 60, 63, 76,  1, 83, 73, 79],\n",
      "        [74, 27,  0, 51, 63,  1, 71, 79],\n",
      "        [48, 59, 69, 63,  1, 73, 64, 64],\n",
      "        [64, 64, 63, 61, 78,  0, 78, 66],\n",
      "        [ 1, 70, 67, 69, 63,  1, 78, 73],\n",
      "        [12, 37, 67, 64, 63,  1, 78, 66],\n",
      "        [78, 66,  1, 78, 66, 63, 71,  1]])\n"
     ]
    }
   ],
   "source": [
    "# Input to the transformer\n",
    "print(xb)"
   ]
  },
  {
   "cell_type": "code",
   "execution_count": null,
   "id": "b681ba06-6ebe-4863-97de-e625a1fe8122",
   "metadata": {},
   "outputs": [],
   "source": []
  }
 ],
 "metadata": {
  "kernelspec": {
   "display_name": "Python 3 (ipykernel)",
   "language": "python",
   "name": "python3"
  },
  "language_info": {
   "codemirror_mode": {
    "name": "ipython",
    "version": 3
   },
   "file_extension": ".py",
   "mimetype": "text/x-python",
   "name": "python",
   "nbconvert_exporter": "python",
   "pygments_lexer": "ipython3",
   "version": "3.11.0"
  },
  "vscode": {
   "interpreter": {
    "hash": "1a1af0ee75eeea9e2e1ee996c87e7a2b11a0bebd85af04bb136d915cefc0abce"
   }
  }
 },
 "nbformat": 4,
 "nbformat_minor": 5
}
