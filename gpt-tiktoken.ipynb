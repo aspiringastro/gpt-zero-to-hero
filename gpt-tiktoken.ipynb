{
 "cells": [
  {
   "cell_type": "code",
   "execution_count": 1,
   "id": "4ed2ac93-a968-4317-85f6-44b1517a7aa2",
   "metadata": {},
   "outputs": [
    {
     "name": "stderr",
     "output_type": "stream",
     "text": [
      "/Users/ajithj/mambaforge/envs/gpt-zero-to-hero/lib/python3.11/site-packages/tqdm/auto.py:22: TqdmWarning: IProgress not found. Please update jupyter and ipywidgets. See https://ipywidgets.readthedocs.io/en/stable/user_install.html\n",
      "  from .autonotebook import tqdm as notebook_tqdm\n"
     ]
    }
   ],
   "source": [
    "import torch\n",
    "import torch.nn as nn\n",
    "from torch.nn import functional as F\n",
    "import tiktoken"
   ]
  },
  {
   "cell_type": "code",
   "execution_count": 2,
   "id": "1c410d2e-ce77-460e-82b3-6b89300e6196",
   "metadata": {},
   "outputs": [
    {
     "name": "stdout",
     "output_type": "stream",
     "text": [
      "Vocab size: 50257\n"
     ]
    }
   ],
   "source": [
    "enc = tiktoken.get_encoding('gpt2')\n",
    "print(\"Vocab size:\", enc.n_vocab)"
   ]
  },
  {
   "cell_type": "code",
   "execution_count": 3,
   "id": "23d900bb-61e4-48db-990e-0af7afa836b7",
   "metadata": {},
   "outputs": [],
   "source": [
    "torch.manual_seed(1337)\n",
    "with open('input.txt', 'r', encoding='utf-8') as f:\n",
    "    text = f.read()"
   ]
  },
  {
   "cell_type": "code",
   "execution_count": 16,
   "id": "42f1bda8-4f3d-4b64-8abe-e36e5a4e59db",
   "metadata": {},
   "outputs": [],
   "source": [
    "data = enc.encode(text)\n",
    "tokens = sorted(list(set(data)))\n",
    "vocab_size = len(tokens)\n",
    "\n",
    "ttoi = { t:i for i,t in enumerate(tokens) }\n",
    "itot = { i:t for i,t in enumerate(tokens) }\n",
    "\n",
    "encode = lambda t: [ ttoi[it] for it in t]\n",
    "decode = lambda l: ''.join([enc.decode([itot[i] for i in l])])"
   ]
  },
  {
   "cell_type": "code",
   "execution_count": 17,
   "id": "8ac433c6-bf2d-470f-aafc-0df3e7799d05",
   "metadata": {},
   "outputs": [
    {
     "data": {
      "text/plain": [
       "'First'"
      ]
     },
     "execution_count": 17,
     "metadata": {},
     "output_type": "execute_result"
    }
   ],
   "source": [
    "decode(encode(enc.encode('First')))"
   ]
  },
  {
   "cell_type": "code",
   "execution_count": null,
   "id": "5eae9a9c-5062-4435-863f-81ae971ad62b",
   "metadata": {},
   "outputs": [],
   "source": []
  }
 ],
 "metadata": {
  "kernelspec": {
   "display_name": "Python 3 (ipykernel)",
   "language": "python",
   "name": "python3"
  },
  "language_info": {
   "codemirror_mode": {
    "name": "ipython",
    "version": 3
   },
   "file_extension": ".py",
   "mimetype": "text/x-python",
   "name": "python",
   "nbconvert_exporter": "python",
   "pygments_lexer": "ipython3",
   "version": "3.11.0"
  }
 },
 "nbformat": 4,
 "nbformat_minor": 5
}
