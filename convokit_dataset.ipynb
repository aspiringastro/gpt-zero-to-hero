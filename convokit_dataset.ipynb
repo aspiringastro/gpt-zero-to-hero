{
 "cells": [
  {
   "cell_type": "code",
   "execution_count": 2,
   "id": "881ba449-d35b-40a3-bdaf-dd4a49058a2c",
   "metadata": {},
   "outputs": [
    {
     "name": "stdout",
     "output_type": "stream",
     "text": [
      "Downloading supreme-2019 to /Users/ajithj/.convokit/downloads/supreme-2019\n",
      "Downloading supreme-2019 from http://zissou.infosci.cornell.edu/convokit/datasets/supreme-corpus/supreme-2019.zip (7.3MB)... Done\n"
     ]
    }
   ],
   "source": [
    "from convokit import Corpus, download\n",
    "corpus = Corpus(filename=download(\"supreme-2019\"))\n"
   ]
  },
  {
   "cell_type": "code",
   "execution_count": 4,
   "id": "7bd7d020-afc2-42e4-953d-85c431d2ac27",
   "metadata": {},
   "outputs": [
    {
     "name": "stdout",
     "output_type": "stream",
     "text": [
      "Number of Speakers: 113\n",
      "Number of Utterances: 13707\n",
      "Number of Conversations: 58\n"
     ]
    }
   ],
   "source": [
    "corpus.print_summary_stats()"
   ]
  },
  {
   "cell_type": "code",
   "execution_count": 5,
   "id": "a603a6b6-b602-40c8-94bc-9a54a986140c",
   "metadata": {},
   "outputs": [],
   "source": [
    "utt = corpus.random_utterance()"
   ]
  },
  {
   "cell_type": "code",
   "execution_count": 6,
   "id": "0b9414b0-848a-4ae2-9b6c-bddab2c2bbd4",
   "metadata": {},
   "outputs": [
    {
     "name": "stdout",
     "output_type": "stream",
     "text": [
      "ID: 24966__0_035 \n",
      "\n",
      "Reply_to: 24966__0_034 \n",
      "\n",
      "Timestamp: None \n",
      "\n",
      "Text: Justice Kagan, I think the key point is that Article III does not say \"only the parties.\" In other words, the bear minimum the contracting states agree to do is to refer a case to arbitration if the parties -- whether you think that's to be -- \n",
      "\n",
      "Conversation ID: 24966 \n",
      "\n",
      "Speaker ID: shay_dvoretzky\n"
     ]
    }
   ],
   "source": [
    "# primary data fields\n",
    "print(\"ID:\", utt.id, \"\\n\")\n",
    "print(\"Reply_to:\", utt.reply_to, \"\\n\")\n",
    "print(\"Timestamp:\", utt.timestamp, \"\\n\")\n",
    "print(\"Text:\", utt.text, \"\\n\")\n",
    "print(\"Conversation ID:\", utt.conversation_id, \"\\n\")\n",
    "print(\"Speaker ID:\", utt.speaker.id)"
   ]
  },
  {
   "cell_type": "code",
   "execution_count": 7,
   "id": "4e6045fe-a2f3-4e5e-b021-de5230b90426",
   "metadata": {},
   "outputs": [],
   "source": [
    "con = corpus.random_conversation()"
   ]
  },
  {
   "cell_type": "code",
   "execution_count": 13,
   "id": "b99f202e-2754-429d-939b-0c483ed6038e",
   "metadata": {},
   "outputs": [],
   "source": [
    "with open('data/supreme.txt', 'w', encoding='utf-8') as f:\n",
    "    for con in corpus.iter_conversations():\n",
    "        for utt in con.iter_utterances():\n",
    "            f.write(utt.speaker.id + \":\\n\")\n",
    "            f.write(utt.text + \"\\n\")\n",
    "        f.write(\"\\n\")\n"
   ]
  },
  {
   "cell_type": "code",
   "execution_count": null,
   "id": "86140c5a-4cd4-4f0b-b8d3-aed174855666",
   "metadata": {},
   "outputs": [],
   "source": []
  }
 ],
 "metadata": {
  "kernelspec": {
   "display_name": "Python 3 (ipykernel)",
   "language": "python",
   "name": "python3"
  },
  "language_info": {
   "codemirror_mode": {
    "name": "ipython",
    "version": 3
   },
   "file_extension": ".py",
   "mimetype": "text/x-python",
   "name": "python",
   "nbconvert_exporter": "python",
   "pygments_lexer": "ipython3",
   "version": "3.11.0"
  }
 },
 "nbformat": 4,
 "nbformat_minor": 5
}
